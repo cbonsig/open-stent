{
 "cells": [
  {
   "cell_type": "markdown",
   "id": "f4c60acb-ee6b-413a-81d0-83bca1d0d847",
   "metadata": {},
   "source": [
    "# Stent Calculator 2021\n",
    "Craig Bonsignore, July 2021\n",
    "\n",
    "Derived from Open Stent design calculator at https://github.com/cbonsig/open-stent, originally developed in 2010."
   ]
  },
  {
   "cell_type": "code",
   "execution_count": 1,
   "id": "8bf52562-d611-47f4-a1db-c8c6d7aa69a9",
   "metadata": {},
   "outputs": [],
   "source": [
    "# required libraries\n",
    "import math\n",
    "import sympy as sym"
   ]
  },
  {
   "cell_type": "markdown",
   "id": "63e8d4ee-b4bd-4bd8-b407-b1a0f3815cd9",
   "metadata": {},
   "source": [
    "## Background\n",
    "\n",
    "The functional properties of a self-expanding stent can be approximated using engineering properties of simple beams. This worksheet estimates strain and stiffness values for specific use conditions, given typical stent design input variables, such as strut width, strut length, wall thickness, and tubing dimensions. \n",
    "\n",
    "This worksheet is a [Jupyter Notebook](https://jupyter.org) which uses the Python symbolic math library [SymPy](https://www.sympy.org/) to derive formulas for strain, radial outward force, contact pressure, and equivalent hydrostatic pressure. The formulas are expressed here in mathematical notation, and also summarized in a format suitable for implementation in a spreadsheet. \n",
    "\n",
    "The spreadsheet version allows for easy experimentation and iteration. It can be accessed via Google Sheets: [Stent Calculator 2021](https://docs.google.com/spreadsheets/d/1WNo-heeC47Z9YqaJjs4vi74C_uU2YyMQA8cRFJYoxgw/edit#gid=0). Use File > Make a Copy to make changes, or File > Download to use in Excel.\n",
    "\n",
    "## Design variables\n",
    "\n",
    "This model assumes a stent design as shown below, typically laser cut from nitinol tubing. The design variables below describe the essential characteristics of such a stent, with uniform regularly repeating features. All formulas will be expressed in terms of these variables.\n",
    "\n",
    "![design_diagram](images/stent.png)"
   ]
  },
  {
   "cell_type": "code",
   "execution_count": 2,
   "id": "81ec9df0-f5a7-4303-87bd-562475419a15",
   "metadata": {},
   "outputs": [],
   "source": [
    "D_o = sym.Symbol('D_o')   # tubing outer diameter\n",
    "t   = sym.Symbol('t')     # tubing wall thickness\n",
    "w   = sym.Symbol('w')     # strut width\n",
    "a   = sym.Symbol('a')     # apex width\n",
    "L_s = sym.Symbol('L_s')   # strut length, measured to inner apex\n",
    "N   = sym.Symbol('N')     # number of uniformly spaced struts\n",
    "D_x = sym.Symbol('D_x')   # expanded diameter of stent at outer diameter\n",
    "D_v = sym.Symbol('D_v')   # vessel diameter\n",
    "E_a = sym.Symbol('E_a')   # effective elastic modulus of material"
   ]
  },
  {
   "cell_type": "markdown",
   "id": "ffbb1f76-0213-4038-9323-e632bd0fa7ca",
   "metadata": {},
   "source": [
    "## Derived variables\n",
    "\n",
    "The variables below are used for intermediate calculations."
   ]
  },
  {
   "cell_type": "code",
   "execution_count": 3,
   "id": "3bb520e5-6a92-4c8d-a1fa-9d176c3109fc",
   "metadata": {},
   "outputs": [],
   "source": [
    "D_i     = D_o - 2*t         # tubing inner diameter\n",
    "X       = D_x - D_o         # change in diameter, from tubing to full expansion\n",
    "L       = L_s + a           # effective strut length\n",
    "C_o     = sym.pi * D_o      # initial circumference, tube OD\n",
    "C_x     = sym.pi * D_x      # expanded circumference, outer surface of stent\n",
    "C_v     = sym.pi * D_v      # vessel diameter circumference\n",
    "deltaX  = (C_x-C_o) / N     # change in circumference per strut, from tube to full expansion\n",
    "deltaV  = (C_x-C_v) / N     # change in circumference per strut, from full exp to vessel\n",
    "A_s     = L_s * w           # strut area\n",
    "A_a     = a * w             # apex area, approximated\n",
    "A_c     = A_s + 2*A_a       # approximate contact area per strut"
   ]
  },
  {
   "cell_type": "markdown",
   "id": "c94f641b-903b-40fc-b3ad-94d749ced4c1",
   "metadata": {},
   "source": [
    "## Section modulus\n",
    "\n",
    "A strut laser cut from a tube has a moment of inertia defined by $I_y$ of the \"sector of a hollow circle\" (Roark's Formulas for Stress and Strain, 7th Edition, page 808). The section modulus $Z_y$ is derived from this value. The formula for $I_y$ is highlighted below.\n",
    "\n",
    "![roarks](images/roarks_formulas.png)"
   ]
  },
  {
   "cell_type": "code",
   "execution_count": 4,
   "id": "2ca58d85-ffa1-47e4-b313-88e019386cb7",
   "metadata": {},
   "outputs": [],
   "source": [
    "R          = D_o / 2              # outer radius tube\n",
    "two_alpha  = (w/C_o) * 2*sym.pi   # strut width relative to tubing circumference\n",
    "alpha      = two_alpha / 2        # in radians\n",
    "term1      = (R**3) * (t)\n",
    "term2      = 1-((3*t)/(2*R))+((t**2)/(R**2))-((t**3)/(4*R**3))\n",
    "term3      = alpha - (sym.sin(alpha) * sym.cos(alpha))\n",
    "I_y        = term1 * term2 * term3\n",
    "Z_y        = I_y / (w/2)"
   ]
  },
  {
   "cell_type": "markdown",
   "id": "1c0b54e3-8b77-463b-9389-99cf61245614",
   "metadata": {},
   "source": [
    "The relevant moment of inertia $I_y$ can now be expressed in terms of the design variables."
   ]
  },
  {
   "cell_type": "code",
   "execution_count": 5,
   "id": "f2aa53ce-054a-4b84-91b3-43695ae46217",
   "metadata": {},
   "outputs": [
    {
     "data": {
      "text/latex": [
       "$\\displaystyle - \\frac{t \\left(- D_{o} + t\\right) \\left(- D_{o} \\sin{\\left(\\frac{w}{D_{o}} \\right)} \\cos{\\left(\\frac{w}{D_{o}} \\right)} + w\\right) \\left(D_{o}^{2} - 2 D_{o} t + 2 t^{2}\\right)}{8 D_{o}}$"
      ],
      "text/plain": [
       "-t*(-D_o + t)*(-D_o*sin(w/D_o)*cos(w/D_o) + w)*(D_o**2 - 2*D_o*t + 2*t**2)/(8*D_o)"
      ]
     },
     "execution_count": 5,
     "metadata": {},
     "output_type": "execute_result"
    }
   ],
   "source": [
    "sym.factor(I_y)"
   ]
  },
  {
   "cell_type": "markdown",
   "id": "9dc72451-84cc-47b5-8e32-fe67e5dad61f",
   "metadata": {
    "tags": []
   },
   "source": [
    "## Beam deflection, expansion\n",
    "\n",
    "$deltaX$, derived above, is the circumferential distance each strut moves when expanded by $X$ millimeters in diameter. This corresponds to the deflection of the beam, assuming the stent is expanded from the tubing diameter to the final diameter in a single step."
   ]
  },
  {
   "cell_type": "code",
   "execution_count": 6,
   "id": "550c1916-f202-4a49-b998-01c934589940",
   "metadata": {},
   "outputs": [
    {
     "data": {
      "text/latex": [
       "$\\displaystyle - \\frac{\\pi \\left(D_{o} - D_{x}\\right)}{N}$"
      ],
      "text/plain": [
       "-pi*(D_o - D_x)/N"
      ]
     },
     "execution_count": 6,
     "metadata": {},
     "output_type": "execute_result"
    }
   ],
   "source": [
    "sym.factor(deltaX)"
   ]
  },
  {
   "cell_type": "markdown",
   "id": "378dfef8-3aec-4d9c-9c0e-4d093b9bbbcf",
   "metadata": {
    "tags": []
   },
   "source": [
    "## Beam deflection, deployed"
   ]
  },
  {
   "cell_type": "markdown",
   "id": "5d7d1156-9af4-4704-8867-15c3bcf5c43e",
   "metadata": {},
   "source": [
    "$deltaV$, also derived above, is the circumferential distance each strut moves when the stent is reduced in diameter (\"oversized\") from its fully expanded size to the smaller size of the vessel."
   ]
  },
  {
   "cell_type": "code",
   "execution_count": 7,
   "id": "bcbc3994-f2a0-4c8a-aeef-6dc908df3365",
   "metadata": {},
   "outputs": [
    {
     "data": {
      "text/latex": [
       "$\\displaystyle - \\frac{\\pi \\left(D_{v} - D_{x}\\right)}{N}$"
      ],
      "text/plain": [
       "-pi*(D_v - D_x)/N"
      ]
     },
     "execution_count": 7,
     "metadata": {},
     "output_type": "execute_result"
    }
   ],
   "source": [
    "sym.factor(deltaV)"
   ]
  },
  {
   "cell_type": "markdown",
   "id": "e1674163-d8a7-403a-9bbe-778c91740808",
   "metadata": {},
   "source": [
    "## Foreshortening at expanded diameter"
   ]
  },
  {
   "cell_type": "markdown",
   "id": "0eb7d6d1-fd09-478e-b9ac-38a3d660c490",
   "metadata": {},
   "source": [
    "$\\theta_X$ is half the included angle formed by adjacent struts when the stent is fully expanded, assuming that struts are aligned with the longitudinal axis in the constrained state (at the diameter of the tubing)."
   ]
  },
  {
   "cell_type": "code",
   "execution_count": 8,
   "id": "c524aabf-2001-43f8-b8d2-adf0d12e372e",
   "metadata": {},
   "outputs": [
    {
     "data": {
      "text/latex": [
       "$\\displaystyle \\operatorname{atan}{\\left(\\frac{- \\pi D_{o} + \\pi D_{x}}{N \\left(L_{s} + a\\right)} \\right)}$"
      ],
      "text/plain": [
       "atan((-pi*D_o + pi*D_x)/(N*(L_s + a)))"
      ]
     },
     "execution_count": 8,
     "metadata": {},
     "output_type": "execute_result"
    }
   ],
   "source": [
    "theta_X = sym.atan( deltaX / L )\n",
    "theta_X"
   ]
  },
  {
   "cell_type": "markdown",
   "id": "1fa16cd2-6904-48bb-87c1-df24d874153b",
   "metadata": {},
   "source": [
    "Foreshortening is the percentage change in length when the stent is expanded from its constrained diameter to its largest expanded diameter."
   ]
  },
  {
   "cell_type": "code",
   "execution_count": 9,
   "id": "59f88152-5246-45ca-94a9-280d89c872d8",
   "metadata": {},
   "outputs": [
    {
     "data": {
      "text/latex": [
       "$\\displaystyle \\frac{L_{s} + a - \\frac{L_{s} + a}{\\sqrt{1 + \\frac{\\left(- \\pi D_{o} + \\pi D_{x}\\right)^{2}}{N^{2} \\left(L_{s} + a\\right)^{2}}}}}{L_{s} + a}$"
      ],
      "text/plain": [
       "(L_s + a - (L_s + a)/sqrt(1 + (-pi*D_o + pi*D_x)**2/(N**2*(L_s + a)**2)))/(L_s + a)"
      ]
     },
     "execution_count": 9,
     "metadata": {},
     "output_type": "execute_result"
    }
   ],
   "source": [
    "L_x      = L * sym.cos(theta_X)   # expanded strut length, axial component\n",
    "FS_x     = (L-L_x) / L            # foreshortening\n",
    "FS_x"
   ]
  },
  {
   "cell_type": "markdown",
   "id": "96052e5a-4744-4442-9486-b07e6f49ba0e",
   "metadata": {},
   "source": [
    "## Force when constrained at vessel diameter\n",
    "A deflected strut resembles a beam fixed at one end, and free but guided at the other. Machinery's Handbook 26 (page 243), \"case 17\", provides formulas for load $W$ corresponding to a given deflection. In this scenario, deflection $deltaV$ is the change in circumference when the fully expanded stent is constrained in a vessel.\n",
    "![machinery](images/machinerys_handbook.png)"
   ]
  },
  {
   "cell_type": "code",
   "execution_count": 10,
   "id": "21a051e9-ef1e-4d40-ae9e-c678a6919f1a",
   "metadata": {},
   "outputs": [
    {
     "data": {
      "text/latex": [
       "$\\displaystyle \\frac{3 \\pi E_{a} t \\left(- D_{o} + t\\right) \\left(D_{v} - D_{x}\\right) \\left(- D_{o} \\sin{\\left(\\frac{2 w}{D_{o}} \\right)} + 2 w\\right) \\left(D_{o}^{2} - 2 D_{o} t + 2 t^{2}\\right)}{4 D_{o} N \\left(L_{s} + a\\right)^{3}}$"
      ],
      "text/plain": [
       "3*pi*E_a*t*(-D_o + t)*(D_v - D_x)*(-D_o*sin(2*w/D_o) + 2*w)*(D_o**2 - 2*D_o*t + 2*t**2)/(4*D_o*N*(L_s + a)**3)"
      ]
     },
     "execution_count": 10,
     "metadata": {},
     "output_type": "execute_result"
    }
   ],
   "source": [
    "W       = sym.Symbol('W')                # force as shown in Case 17\n",
    "deflect = (W * L**3) / (12 * E_a * I_y)  # maximum deflection at free end\n",
    "eq      = deflect - deltaV               # equation: deflection == deltaV\n",
    "Fhoop   = sym.solve(eq,W)[0]             # solve for force, first solution\n",
    "Fhoop   = sym.factor(Fhoop)\n",
    "Fhoop"
   ]
  },
  {
   "cell_type": "markdown",
   "id": "13568dba-453b-4f97-bb92-15dd8b7df546",
   "metadata": {},
   "source": [
    "This is the total magnitude of the force exerted by the strut when the diameter is constrained from the fully expanded diameter to the vessel diameter. This is a \"hoop force\", oriented in the cylindrical plane of the circumference of the stent. This force can be decomposed into a circumferentially oriented component ($\\theta$, related to radial stiffness) and a longitudinally oriented component (related to axial stiffness)."
   ]
  },
  {
   "cell_type": "code",
   "execution_count": 11,
   "id": "213631c3-0ce3-43db-83bd-2e96364c7fd8",
   "metadata": {},
   "outputs": [
    {
     "data": {
      "text/latex": [
       "$\\displaystyle \\frac{3 \\pi E_{a} t \\left(- D_{o} + t\\right) \\left(D_{v} - D_{x}\\right) \\left(- D_{o} \\sin{\\left(\\frac{2 w}{D_{o}} \\right)} + 2 w\\right) \\left(D_{o}^{2} - 2 D_{o} t + 2 t^{2}\\right)}{4 D_{o} N \\sqrt{1 + \\frac{\\left(- \\pi D_{o} + \\pi D_{x}\\right)^{2}}{N^{2} \\left(L_{s} + a\\right)^{2}}} \\left(L_{s} + a\\right)^{3}}$"
      ],
      "text/plain": [
       "3*pi*E_a*t*(-D_o + t)*(D_v - D_x)*(-D_o*sin(2*w/D_o) + 2*w)*(D_o**2 - 2*D_o*t + 2*t**2)/(4*D_o*N*sqrt(1 + (-pi*D_o + pi*D_x)**2/(N**2*(L_s + a)**2))*(L_s + a)**3)"
      ]
     },
     "execution_count": 11,
     "metadata": {},
     "output_type": "execute_result"
    }
   ],
   "source": [
    "Fhoop_theta = Fhoop * sym.cos(theta_X)\n",
    "Fhoop_theta"
   ]
  },
  {
   "cell_type": "markdown",
   "id": "a54df2ad-6a8b-45fc-b0a0-e95a141a57e7",
   "metadata": {},
   "source": [
    "Convert hoop force to true radial force, a multiple of $2\\pi$."
   ]
  },
  {
   "cell_type": "code",
   "execution_count": 12,
   "id": "3e96c039-f3fe-4ad1-8268-aa015ecf2aa1",
   "metadata": {},
   "outputs": [
    {
     "data": {
      "text/latex": [
       "$\\displaystyle \\frac{3 \\pi^{2} E_{a} t \\left(- D_{o} + t\\right) \\left(D_{v} - D_{x}\\right) \\left(- D_{o} \\sin{\\left(\\frac{2 w}{D_{o}} \\right)} + 2 w\\right) \\left(D_{o}^{2} - 2 D_{o} t + 2 t^{2}\\right)}{2 D_{o} N \\sqrt{1 + \\frac{\\left(- \\pi D_{o} + \\pi D_{x}\\right)^{2}}{N^{2} \\left(L_{s} + a\\right)^{2}}} \\left(L_{s} + a\\right)^{3}}$"
      ],
      "text/plain": [
       "3*pi**2*E_a*t*(-D_o + t)*(D_v - D_x)*(-D_o*sin(2*w/D_o) + 2*w)*(D_o**2 - 2*D_o*t + 2*t**2)/(2*D_o*N*sqrt(1 + (-pi*D_o + pi*D_x)**2/(N**2*(L_s + a)**2))*(L_s + a)**3)"
      ]
     },
     "execution_count": 12,
     "metadata": {},
     "output_type": "execute_result"
    }
   ],
   "source": [
    "F_trf      = 2 * sym.pi * Fhoop_theta\n",
    "F_trf"
   ]
  },
  {
   "cell_type": "markdown",
   "id": "34bdd942-7e9c-4cf6-ae17-587ad6c0ff07",
   "metadata": {},
   "source": [
    "## Contact pressure\n",
    "\n",
    "The contact pressure is the outward force of the stent strut divided by outer surface area of the strut. This is the pressure \"felt\" by an endothelial cell in contact with the stent."
   ]
  },
  {
   "cell_type": "code",
   "execution_count": 13,
   "id": "d797569c-3291-41ef-9b59-a1354d56f947",
   "metadata": {},
   "outputs": [
    {
     "data": {
      "text/latex": [
       "$\\displaystyle L_{s} w + 2 a w$"
      ],
      "text/plain": [
       "L_s*w + 2*a*w"
      ]
     },
     "execution_count": 13,
     "metadata": {},
     "output_type": "execute_result"
    }
   ],
   "source": [
    "A_c            # contact area"
   ]
  },
  {
   "cell_type": "code",
   "execution_count": 14,
   "id": "25bd6e4e-d805-468a-b9cf-cc69518abb80",
   "metadata": {},
   "outputs": [
    {
     "data": {
      "text/latex": [
       "$\\displaystyle \\frac{3 \\pi^{2} E_{a} t \\left(- D_{o} + t\\right) \\left(D_{v} - D_{x}\\right) \\left(- D_{o} \\sin{\\left(\\frac{2 w}{D_{o}} \\right)} + 2 w\\right) \\left(D_{o}^{2} - 2 D_{o} t + 2 t^{2}\\right)}{2 D_{o} N \\sqrt{1 + \\frac{\\left(- \\pi D_{o} + \\pi D_{x}\\right)^{2}}{N^{2} \\left(L_{s} + a\\right)^{2}}} \\left(L_{s} + a\\right)^{3} \\left(L_{s} w + 2 a w\\right)}$"
      ],
      "text/plain": [
       "3*pi**2*E_a*t*(-D_o + t)*(D_v - D_x)*(-D_o*sin(2*w/D_o) + 2*w)*(D_o**2 - 2*D_o*t + 2*t**2)/(2*D_o*N*sqrt(1 + (-pi*D_o + pi*D_x)**2/(N**2*(L_s + a)**2))*(L_s + a)**3*(L_s*w + 2*a*w))"
      ]
     },
     "execution_count": 14,
     "metadata": {},
     "output_type": "execute_result"
    }
   ],
   "source": [
    "F_trf/A_c      # radial force / contact area"
   ]
  },
  {
   "cell_type": "markdown",
   "id": "89caac42-dfc4-4e25-994e-15bd1ff870c6",
   "metadata": {},
   "source": [
    "## Equivalent pressure\n",
    "\n",
    "The equivalent pressure is the outward force of the stent divided by the surface of the area of the vessel in which the stent is placed. This is the equivalent hydrostatic pressure required to replace the effect of the stent."
   ]
  },
  {
   "cell_type": "code",
   "execution_count": 15,
   "id": "066c3ff8-04c6-4f48-9cbf-c2813bcf5e54",
   "metadata": {},
   "outputs": [
    {
     "data": {
      "text/latex": [
       "$\\displaystyle \\frac{\\pi D_{v} \\left(L_{s} + a\\right)}{\\sqrt{1 + \\frac{\\left(- \\pi D_{o} + \\pi D_{x}\\right)^{2}}{N^{2} \\left(L_{s} + a\\right)^{2}}}}$"
      ],
      "text/plain": [
       "pi*D_v*(L_s + a)/sqrt(1 + (-pi*D_o + pi*D_x)**2/(N**2*(L_s + a)**2))"
      ]
     },
     "execution_count": 15,
     "metadata": {},
     "output_type": "execute_result"
    }
   ],
   "source": [
    "A_v = C_v * L_x     # assuming length of vessel == length of expanded stent\n",
    "A_v"
   ]
  },
  {
   "cell_type": "code",
   "execution_count": 16,
   "id": "cc6c1532-0f9d-490e-84d2-822d52b969b5",
   "metadata": {},
   "outputs": [
    {
     "data": {
      "text/latex": [
       "$\\displaystyle \\frac{3 \\pi E_{a} t \\left(- D_{o} + t\\right) \\left(D_{v} - D_{x}\\right) \\left(- D_{o} \\sin{\\left(\\frac{2 w}{D_{o}} \\right)} + 2 w\\right) \\left(D_{o}^{2} - 2 D_{o} t + 2 t^{2}\\right)}{2 D_{o} D_{v} N \\left(L_{s} + a\\right)^{4}}$"
      ],
      "text/plain": [
       "3*pi*E_a*t*(-D_o + t)*(D_v - D_x)*(-D_o*sin(2*w/D_o) + 2*w)*(D_o**2 - 2*D_o*t + 2*t**2)/(2*D_o*D_v*N*(L_s + a)**4)"
      ]
     },
     "execution_count": 16,
     "metadata": {},
     "output_type": "execute_result"
    }
   ],
   "source": [
    "F_trf/A_v"
   ]
  },
  {
   "cell_type": "markdown",
   "id": "4bd7aea0-0902-46e0-ac5d-ede151ed109b",
   "metadata": {},
   "source": [
    "## Strain when constrained in vessel\n",
    "\n",
    "The formulation for stress is expressed in the Machinery's Handbook reference above. \"Stress at support\" is defined here as stress $\\sigma$, and the effective elastic modulus is then used to estimate strain $\\epsilon$."
   ]
  },
  {
   "cell_type": "code",
   "execution_count": 17,
   "id": "278b281a-1410-4903-b787-d2ac08d209d6",
   "metadata": {},
   "outputs": [
    {
     "data": {
      "text/latex": [
       "$\\displaystyle - \\frac{2 D_{o} W w \\left(L_{s} + a\\right)}{E_{a} t \\left(\\frac{D_{o} \\sin{\\left(\\frac{2 w}{D_{o}} \\right)}}{2} - w\\right) \\left(D_{o}^{3} - 3 D_{o}^{2} t + 4 D_{o} t^{2} - 2 t^{3}\\right)}$"
      ],
      "text/plain": [
       "-2*D_o*W*w*(L_s + a)/(E_a*t*(D_o*sin(2*w/D_o)/2 - w)*(D_o**3 - 3*D_o**2*t + 4*D_o*t**2 - 2*t**3))"
      ]
     },
     "execution_count": 17,
     "metadata": {},
     "output_type": "execute_result"
    }
   ],
   "source": [
    "sigma = (W * L) / (2 * Z_y)\n",
    "epsilon = sigma / E_a\n",
    "epsilon = sym.simplify(epsilon)\n",
    "epsilon"
   ]
  },
  {
   "cell_type": "markdown",
   "id": "66d603cd-44bd-4789-a5c0-46c133df2c52",
   "metadata": {},
   "source": [
    "The above formulation expresses strain as a function of the applied force $W$. The section above calculates the relationship between applied force $F$ and displacement $deltaV$. Now, substituting $F$ for the applied force $W$, strain can be expressed in terms of the design variables."
   ]
  },
  {
   "cell_type": "code",
   "execution_count": 18,
   "id": "9c203398-b78c-4e54-9d1d-03222bf9ff86",
   "metadata": {},
   "outputs": [
    {
     "data": {
      "text/latex": [
       "$\\displaystyle - \\frac{3 \\pi w \\left(D_{o} - t\\right) \\left(D_{v} - D_{x}\\right) \\left(D_{o}^{2} - 2 D_{o} t + 2 t^{2}\\right)}{N \\sqrt{\\frac{N^{2} \\left(L_{s} + a\\right)^{2} + \\pi^{2} \\left(D_{o} - D_{x}\\right)^{2}}{N^{2} \\left(L_{s} + a\\right)^{2}}} \\left(L_{s} + a\\right)^{2} \\left(D_{o}^{3} - 3 D_{o}^{2} t + 4 D_{o} t^{2} - 2 t^{3}\\right)}$"
      ],
      "text/plain": [
       "-3*pi*w*(D_o - t)*(D_v - D_x)*(D_o**2 - 2*D_o*t + 2*t**2)/(N*sqrt((N**2*(L_s + a)**2 + pi**2*(D_o - D_x)**2)/(N**2*(L_s + a)**2))*(L_s + a)**2*(D_o**3 - 3*D_o**2*t + 4*D_o*t**2 - 2*t**3))"
      ]
     },
     "execution_count": 18,
     "metadata": {},
     "output_type": "execute_result"
    }
   ],
   "source": [
    "epsilon = sym.simplify(epsilon.subs(W,Fhoop_theta))\n",
    "epsilon"
   ]
  },
  {
   "cell_type": "markdown",
   "id": "5b65cf22-a859-4e39-b009-f2c42c72f1a6",
   "metadata": {},
   "source": [
    "## Reformat formulas for spreadsheet implementation\n",
    "\n",
    "The `sym.ccode()` method expresses symbolic formulas in C code. This format is conveniently similar to that required by Excel or Google Sheets to define spreadsheet formulas. Copy the formulas, replace `M_PI` with `PI()`, and replace each symbolic variable with the corresponding spreadsheet cell reference."
   ]
  },
  {
   "cell_type": "code",
   "execution_count": 19,
   "id": "7c97976a-d8d3-44be-b04e-8a81d477a97d",
   "metadata": {},
   "outputs": [
    {
     "data": {
      "text/plain": [
       "'(L_s + a - (L_s + a)/sqrt(1 + pow(-M_PI*D_o + M_PI*D_x, 2)/(pow(N, 2)*pow(L_s + a, 2))))/(L_s + a)'"
      ]
     },
     "execution_count": 19,
     "metadata": {},
     "output_type": "execute_result"
    }
   ],
   "source": [
    "sym.ccode(FS_x) # foreshortening"
   ]
  },
  {
   "cell_type": "code",
   "execution_count": 20,
   "id": "0e97cc48-3297-455a-a63d-de9995265915",
   "metadata": {},
   "outputs": [
    {
     "data": {
      "text/plain": [
       "'-3*M_PI*w*(D_o - t)*(D_v - D_x)*(pow(D_o, 2) - 2*D_o*t + 2*pow(t, 2))/(N*sqrt((pow(N, 2)*pow(L_s + a, 2) + pow(M_PI, 2)*pow(D_o - D_x, 2))/(pow(N, 2)*pow(L_s + a, 2)))*pow(L_s + a, 2)*(pow(D_o, 3) - 3*pow(D_o, 2)*t + 4*D_o*pow(t, 2) - 2*pow(t, 3)))'"
      ]
     },
     "execution_count": 20,
     "metadata": {},
     "output_type": "execute_result"
    }
   ],
   "source": [
    "sym.ccode(epsilon) # strain"
   ]
  },
  {
   "cell_type": "code",
   "execution_count": 21,
   "id": "54c32d22-5830-47e2-9643-8ed6b58ae91a",
   "metadata": {},
   "outputs": [
    {
     "data": {
      "text/plain": [
       "'(3.0/2.0)*pow(M_PI, 2)*E_a*t*(-D_o + t)*(D_v - D_x)*(-D_o*sin(2*w/D_o) + 2*w)*(pow(D_o, 2) - 2*D_o*t + 2*pow(t, 2))/(D_o*N*sqrt(1 + pow(-M_PI*D_o + M_PI*D_x, 2)/(pow(N, 2)*pow(L_s + a, 2)))*pow(L_s + a, 3))'"
      ]
     },
     "execution_count": 21,
     "metadata": {},
     "output_type": "execute_result"
    }
   ],
   "source": [
    "sym.ccode(F_trf) # absolute radial force"
   ]
  },
  {
   "cell_type": "code",
   "execution_count": 22,
   "id": "eee66f83-cff3-470f-bf81-21cfec2e9325",
   "metadata": {
    "tags": []
   },
   "outputs": [
    {
     "data": {
      "text/plain": [
       "'(L_s + a)/sqrt(1 + pow(-M_PI*D_o + M_PI*D_x, 2)/(pow(N, 2)*pow(L_s + a, 2)))'"
      ]
     },
     "execution_count": 22,
     "metadata": {},
     "output_type": "execute_result"
    }
   ],
   "source": [
    "sym.ccode(L_x) # expanded length, to normalize radial force by length"
   ]
  },
  {
   "cell_type": "code",
   "execution_count": 23,
   "id": "d81ffd6f-e18a-469e-b821-9861107ec047",
   "metadata": {},
   "outputs": [
    {
     "data": {
      "text/plain": [
       "'L_s*w + 2*a*w'"
      ]
     },
     "execution_count": 23,
     "metadata": {},
     "output_type": "execute_result"
    }
   ],
   "source": [
    "sym.ccode(A_c) # contact area, to calculate contact pressure"
   ]
  },
  {
   "cell_type": "code",
   "execution_count": 24,
   "id": "5e1aee5f-b024-4fc9-a5d0-71c6acaf1575",
   "metadata": {},
   "outputs": [
    {
     "data": {
      "text/plain": [
       "'M_PI*D_v*(L_s + a)/sqrt(1 + pow(-M_PI*D_o + M_PI*D_x, 2)/(pow(N, 2)*pow(L_s + a, 2)))'"
      ]
     },
     "execution_count": 24,
     "metadata": {},
     "output_type": "execute_result"
    }
   ],
   "source": [
    "sym.ccode(A_v) # vessel area, to calculate hydrostatic equivalent pressure"
   ]
  },
  {
   "cell_type": "markdown",
   "id": "b4477771-3dc4-44b5-b87e-b379f4ef232b",
   "metadata": {},
   "source": [
    "## Example design\n",
    "\n",
    "A list $stent$ is created below, and populated with tuples containing example numerical values for each of the symbolically defined variables. The values in this list are then _substituted_ into the previously derived formulas using the `.subs()` method. "
   ]
  },
  {
   "cell_type": "code",
   "execution_count": 25,
   "id": "99a6474d-1ae3-4a83-840b-01f2aa63505a",
   "metadata": {},
   "outputs": [],
   "source": [
    "stent = []                             # create an empty list\n",
    "stent.append((D_o,1.915))              # tubing outer diameter, mm\n",
    "stent.append((t, 0.170 - 0.059))       # wall thickness, mm (adjusted for polishing removal)\n",
    "stent.append((w, 0.130 - 0.036))       # strut width, mm (adjusted for polishing removal)\n",
    "stent.append((a, 0.130 - 0.036))       # apex width, mm (adjusted for polishing removal)\n",
    "stent.append((L_s, 1.2))               # strut length, mm (inner apex distance)\n",
    "stent.append((N, 42))                  # number of struts\n",
    "stent.append((D_x,8.00))               # expanded diameter of stent, mm\n",
    "stent.append((D_v,6.50))               # vessel diameter, mm\n",
    "stent.append((E_a,40E3))               # elastic modulus, MPa\n",
    "stent.append((sym.pi, math.pi))        # convert symbolic pi to numerical value"
   ]
  },
  {
   "cell_type": "markdown",
   "id": "64cbbf5d-f3d6-4fc4-bbac-e0404189dd9a",
   "metadata": {},
   "source": [
    "Sanity check on kerf width, the gap between struts in the constrained state, assuming all struts are parallel axially oriented on the tubing. (micron)"
   ]
  },
  {
   "cell_type": "code",
   "execution_count": 26,
   "id": "5461f6f7-9469-4509-9683-49022b9f4231",
   "metadata": {},
   "outputs": [
    {
     "data": {
      "text/latex": [
       "$\\displaystyle 49.2416650386775$"
      ],
      "text/plain": [
       "49.2416650386775"
      ]
     },
     "execution_count": 26,
     "metadata": {},
     "output_type": "execute_result"
    }
   ],
   "source": [
    "kerf_um = 1000 * ((C_o / N) - w)\n",
    "kerf_um.subs(stent)"
   ]
  },
  {
   "cell_type": "markdown",
   "id": "051a0806-e486-4874-a5c2-7fc78be76a5c",
   "metadata": {},
   "source": [
    "Verify the estimated strain when the expanded stent is constrained within the vessel. As strains approach and exceed 2% (0.02) this simple model diverges from reality."
   ]
  },
  {
   "cell_type": "code",
   "execution_count": 27,
   "id": "f039927d-c59c-4663-bd0f-332f654814e2",
   "metadata": {},
   "outputs": [
    {
     "data": {
      "text/latex": [
       "$\\displaystyle 0.017825535212759$"
      ],
      "text/plain": [
       "0.0178255352127590"
      ]
     },
     "execution_count": 27,
     "metadata": {},
     "output_type": "execute_result"
    }
   ],
   "source": [
    "strain = epsilon.subs(stent)\n",
    "strain"
   ]
  },
  {
   "cell_type": "markdown",
   "id": "fd3a1ede-6e1a-4ade-af9b-cd50689f2ce4",
   "metadata": {},
   "source": [
    "Estimated radial force, normalized by length. (N/mm)"
   ]
  },
  {
   "cell_type": "code",
   "execution_count": 28,
   "id": "42b4cc95-b3d7-4d9d-9c50-45b40b44b317",
   "metadata": {},
   "outputs": [
    {
     "data": {
      "text/latex": [
       "$\\displaystyle 0.777743195968729$"
      ],
      "text/plain": [
       "0.777743195968729"
      ]
     },
     "execution_count": 28,
     "metadata": {},
     "output_type": "execute_result"
    }
   ],
   "source": [
    "RF = F_trf\n",
    "RF_L = F_trf / L_x\n",
    "RF_L.subs(stent)"
   ]
  },
  {
   "cell_type": "markdown",
   "id": "2f3cad79-e3d7-4803-b1a7-04dfcebc0116",
   "metadata": {},
   "source": [
    "Estimated contact pressure (N/mm^2 = MPa)"
   ]
  },
  {
   "cell_type": "code",
   "execution_count": 29,
   "id": "8f5598db-27e2-4141-a075-88d7f1024b26",
   "metadata": {},
   "outputs": [
    {
     "data": {
      "text/latex": [
       "$\\displaystyle 7.27651381878234$"
      ],
      "text/plain": [
       "7.27651381878234"
      ]
     },
     "execution_count": 29,
     "metadata": {},
     "output_type": "execute_result"
    }
   ],
   "source": [
    "P_contact = RF.subs(stent) / A_c.subs(stent)\n",
    "P_contact"
   ]
  },
  {
   "cell_type": "markdown",
   "id": "17f6c4b9-13e5-4079-a7f2-43fbc6b16dc1",
   "metadata": {},
   "source": [
    "Estimated equivalent hydrostatic pressure (mmHg)"
   ]
  },
  {
   "cell_type": "code",
   "execution_count": 30,
   "id": "20ea05a7-12dc-4eae-b819-d4e3e491783c",
   "metadata": {},
   "outputs": [
    {
     "data": {
      "text/latex": [
       "$\\displaystyle 285.673630875932$"
      ],
      "text/plain": [
       "285.673630875932"
      ]
     },
     "execution_count": 30,
     "metadata": {},
     "output_type": "execute_result"
    }
   ],
   "source": [
    "P_hydro_mmHg = (RF.subs(stent) / A_v.subs(stent)) * 7500.62     # mmHg / MPa\n",
    "P_hydro_mmHg"
   ]
  }
 ],
 "metadata": {
  "kernelspec": {
   "display_name": "Python 3",
   "language": "python",
   "name": "python3"
  },
  "language_info": {
   "codemirror_mode": {
    "name": "ipython",
    "version": 3
   },
   "file_extension": ".py",
   "mimetype": "text/x-python",
   "name": "python",
   "nbconvert_exporter": "python",
   "pygments_lexer": "ipython3",
   "version": "3.9.4"
  }
 },
 "nbformat": 4,
 "nbformat_minor": 5
}
